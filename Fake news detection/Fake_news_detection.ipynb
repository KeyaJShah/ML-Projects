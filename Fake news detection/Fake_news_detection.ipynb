{
  "nbformat": 4,
  "nbformat_minor": 0,
  "metadata": {
    "colab": {
      "name": "Fake news detection.ipynb",
      "provenance": [],
      "collapsed_sections": []
    },
    "kernelspec": {
      "name": "python3",
      "display_name": "Python 3"
    },
    "language_info": {
      "name": "python"
    }
  },
  "cells": [
    {
      "cell_type": "markdown",
      "metadata": {
        "id": "9GqeNZ2Ua2IT"
      },
      "source": [
        "Import Libraries"
      ]
    },
    {
      "cell_type": "code",
      "metadata": {
        "id": "vKL7zz_JbBKU"
      },
      "source": [
        "import pandas as pd\n",
        "import numpy as np\n",
        "import seaborn as sns\n",
        "import matplotlib.pyplot as plt\n",
        "from sklearn.model_selection import train_test_split\n",
        "from sklearn.metrics import classification_report,accuracy_score,precision_score,recall_score,roc_auc_score,f1_score\n",
        "from sklearn.metrics import confusion_matrix\n",
        "import re\n",
        "import string"
      ],
      "execution_count": 1,
      "outputs": []
    },
    {
      "cell_type": "code",
      "metadata": {
        "id": "rKa9CS7xbVV2"
      },
      "source": [
        "df_fake = pd.read_csv(\"/content/Fake.csv\")\n",
        "df_true = pd.read_csv(\"/content/True.csv\")"
      ],
      "execution_count": 2,
      "outputs": []
    },
    {
      "cell_type": "code",
      "metadata": {
        "colab": {
          "base_uri": "https://localhost:8080/",
          "height": 202
        },
        "id": "9fQRuQNUcFLJ",
        "outputId": "902d0cf1-332b-47a7-955f-0c10eb785a5b"
      },
      "source": [
        "df_fake.head(5)"
      ],
      "execution_count": 3,
      "outputs": [
        {
          "output_type": "execute_result",
          "data": {
            "text/html": [
              "<div>\n",
              "<style scoped>\n",
              "    .dataframe tbody tr th:only-of-type {\n",
              "        vertical-align: middle;\n",
              "    }\n",
              "\n",
              "    .dataframe tbody tr th {\n",
              "        vertical-align: top;\n",
              "    }\n",
              "\n",
              "    .dataframe thead th {\n",
              "        text-align: right;\n",
              "    }\n",
              "</style>\n",
              "<table border=\"1\" class=\"dataframe\">\n",
              "  <thead>\n",
              "    <tr style=\"text-align: right;\">\n",
              "      <th></th>\n",
              "      <th>title</th>\n",
              "      <th>text</th>\n",
              "      <th>subject</th>\n",
              "      <th>date</th>\n",
              "    </tr>\n",
              "  </thead>\n",
              "  <tbody>\n",
              "    <tr>\n",
              "      <th>0</th>\n",
              "      <td>Donald Trump Sends Out Embarrassing New Year’...</td>\n",
              "      <td>Donald Trump just couldn t wish all Americans ...</td>\n",
              "      <td>News</td>\n",
              "      <td>December 31, 2017</td>\n",
              "    </tr>\n",
              "    <tr>\n",
              "      <th>1</th>\n",
              "      <td>Drunk Bragging Trump Staffer Started Russian ...</td>\n",
              "      <td>House Intelligence Committee Chairman Devin Nu...</td>\n",
              "      <td>News</td>\n",
              "      <td>December 31, 2017</td>\n",
              "    </tr>\n",
              "    <tr>\n",
              "      <th>2</th>\n",
              "      <td>Sheriff David Clarke Becomes An Internet Joke...</td>\n",
              "      <td>On Friday, it was revealed that former Milwauk...</td>\n",
              "      <td>News</td>\n",
              "      <td>December 30, 2017</td>\n",
              "    </tr>\n",
              "    <tr>\n",
              "      <th>3</th>\n",
              "      <td>Trump Is So Obsessed He Even Has Obama’s Name...</td>\n",
              "      <td>On Christmas day, Donald Trump announced that ...</td>\n",
              "      <td>News</td>\n",
              "      <td>December 29, 2017</td>\n",
              "    </tr>\n",
              "    <tr>\n",
              "      <th>4</th>\n",
              "      <td>Pope Francis Just Called Out Donald Trump Dur...</td>\n",
              "      <td>Pope Francis used his annual Christmas Day mes...</td>\n",
              "      <td>News</td>\n",
              "      <td>December 25, 2017</td>\n",
              "    </tr>\n",
              "  </tbody>\n",
              "</table>\n",
              "</div>"
            ],
            "text/plain": [
              "                                               title  ...               date\n",
              "0   Donald Trump Sends Out Embarrassing New Year’...  ...  December 31, 2017\n",
              "1   Drunk Bragging Trump Staffer Started Russian ...  ...  December 31, 2017\n",
              "2   Sheriff David Clarke Becomes An Internet Joke...  ...  December 30, 2017\n",
              "3   Trump Is So Obsessed He Even Has Obama’s Name...  ...  December 29, 2017\n",
              "4   Pope Francis Just Called Out Donald Trump Dur...  ...  December 25, 2017\n",
              "\n",
              "[5 rows x 4 columns]"
            ]
          },
          "metadata": {
            "tags": []
          },
          "execution_count": 3
        }
      ]
    },
    {
      "cell_type": "code",
      "metadata": {
        "colab": {
          "base_uri": "https://localhost:8080/",
          "height": 202
        },
        "id": "dqvC79gbcH2g",
        "outputId": "99d8a7f5-a852-4e0d-ceec-8b084c686bce"
      },
      "source": [
        "df_true.head(5)"
      ],
      "execution_count": 4,
      "outputs": [
        {
          "output_type": "execute_result",
          "data": {
            "text/html": [
              "<div>\n",
              "<style scoped>\n",
              "    .dataframe tbody tr th:only-of-type {\n",
              "        vertical-align: middle;\n",
              "    }\n",
              "\n",
              "    .dataframe tbody tr th {\n",
              "        vertical-align: top;\n",
              "    }\n",
              "\n",
              "    .dataframe thead th {\n",
              "        text-align: right;\n",
              "    }\n",
              "</style>\n",
              "<table border=\"1\" class=\"dataframe\">\n",
              "  <thead>\n",
              "    <tr style=\"text-align: right;\">\n",
              "      <th></th>\n",
              "      <th>title</th>\n",
              "      <th>text</th>\n",
              "      <th>subject</th>\n",
              "      <th>date</th>\n",
              "    </tr>\n",
              "  </thead>\n",
              "  <tbody>\n",
              "    <tr>\n",
              "      <th>0</th>\n",
              "      <td>As U.S. budget fight looms, Republicans flip t...</td>\n",
              "      <td>WASHINGTON (Reuters) - The head of a conservat...</td>\n",
              "      <td>politicsNews</td>\n",
              "      <td>December 31, 2017</td>\n",
              "    </tr>\n",
              "    <tr>\n",
              "      <th>1</th>\n",
              "      <td>U.S. military to accept transgender recruits o...</td>\n",
              "      <td>WASHINGTON (Reuters) - Transgender people will...</td>\n",
              "      <td>politicsNews</td>\n",
              "      <td>December 29, 2017</td>\n",
              "    </tr>\n",
              "    <tr>\n",
              "      <th>2</th>\n",
              "      <td>Senior U.S. Republican senator: 'Let Mr. Muell...</td>\n",
              "      <td>WASHINGTON (Reuters) - The special counsel inv...</td>\n",
              "      <td>politicsNews</td>\n",
              "      <td>December 31, 2017</td>\n",
              "    </tr>\n",
              "    <tr>\n",
              "      <th>3</th>\n",
              "      <td>FBI Russia probe helped by Australian diplomat...</td>\n",
              "      <td>WASHINGTON (Reuters) - Trump campaign adviser ...</td>\n",
              "      <td>politicsNews</td>\n",
              "      <td>December 30, 2017</td>\n",
              "    </tr>\n",
              "    <tr>\n",
              "      <th>4</th>\n",
              "      <td>Trump wants Postal Service to charge 'much mor...</td>\n",
              "      <td>SEATTLE/WASHINGTON (Reuters) - President Donal...</td>\n",
              "      <td>politicsNews</td>\n",
              "      <td>December 29, 2017</td>\n",
              "    </tr>\n",
              "  </tbody>\n",
              "</table>\n",
              "</div>"
            ],
            "text/plain": [
              "                                               title  ...                date\n",
              "0  As U.S. budget fight looms, Republicans flip t...  ...  December 31, 2017 \n",
              "1  U.S. military to accept transgender recruits o...  ...  December 29, 2017 \n",
              "2  Senior U.S. Republican senator: 'Let Mr. Muell...  ...  December 31, 2017 \n",
              "3  FBI Russia probe helped by Australian diplomat...  ...  December 30, 2017 \n",
              "4  Trump wants Postal Service to charge 'much mor...  ...  December 29, 2017 \n",
              "\n",
              "[5 rows x 4 columns]"
            ]
          },
          "metadata": {
            "tags": []
          },
          "execution_count": 4
        }
      ]
    },
    {
      "cell_type": "markdown",
      "metadata": {
        "id": "Idb8o1cdceLu"
      },
      "source": [
        "Inserting a column \"class\" and considering it as target feature"
      ]
    },
    {
      "cell_type": "code",
      "metadata": {
        "id": "-9c8Er0kcM7z"
      },
      "source": [
        "df_fake[\"class\"] = 0\n",
        "df_true[\"class\"] = 1"
      ],
      "execution_count": 5,
      "outputs": []
    },
    {
      "cell_type": "code",
      "metadata": {
        "colab": {
          "base_uri": "https://localhost:8080/"
        },
        "id": "SIRaxE6VcjSD",
        "outputId": "479ac362-6658-4318-f0b5-cfbb84552a8b"
      },
      "source": [
        "df_fake.shape, df_true.shape"
      ],
      "execution_count": 6,
      "outputs": [
        {
          "output_type": "execute_result",
          "data": {
            "text/plain": [
              "((23481, 5), (21417, 5))"
            ]
          },
          "metadata": {
            "tags": []
          },
          "execution_count": 6
        }
      ]
    },
    {
      "cell_type": "markdown",
      "metadata": {
        "id": "BIJOwFkqcsVw"
      },
      "source": [
        "Merging Both The Dataframes"
      ]
    },
    {
      "cell_type": "code",
      "metadata": {
        "colab": {
          "base_uri": "https://localhost:8080/",
          "height": 202
        },
        "id": "llJqpqqhct-q",
        "outputId": "caf4e807-03d2-4a96-a010-496dc41a6743"
      },
      "source": [
        "df_merge = pd.concat([df_fake, df_true], axis =0 )\n",
        "df_merge.head(5)"
      ],
      "execution_count": 7,
      "outputs": [
        {
          "output_type": "execute_result",
          "data": {
            "text/html": [
              "<div>\n",
              "<style scoped>\n",
              "    .dataframe tbody tr th:only-of-type {\n",
              "        vertical-align: middle;\n",
              "    }\n",
              "\n",
              "    .dataframe tbody tr th {\n",
              "        vertical-align: top;\n",
              "    }\n",
              "\n",
              "    .dataframe thead th {\n",
              "        text-align: right;\n",
              "    }\n",
              "</style>\n",
              "<table border=\"1\" class=\"dataframe\">\n",
              "  <thead>\n",
              "    <tr style=\"text-align: right;\">\n",
              "      <th></th>\n",
              "      <th>title</th>\n",
              "      <th>text</th>\n",
              "      <th>subject</th>\n",
              "      <th>date</th>\n",
              "      <th>class</th>\n",
              "    </tr>\n",
              "  </thead>\n",
              "  <tbody>\n",
              "    <tr>\n",
              "      <th>0</th>\n",
              "      <td>Donald Trump Sends Out Embarrassing New Year’...</td>\n",
              "      <td>Donald Trump just couldn t wish all Americans ...</td>\n",
              "      <td>News</td>\n",
              "      <td>December 31, 2017</td>\n",
              "      <td>0</td>\n",
              "    </tr>\n",
              "    <tr>\n",
              "      <th>1</th>\n",
              "      <td>Drunk Bragging Trump Staffer Started Russian ...</td>\n",
              "      <td>House Intelligence Committee Chairman Devin Nu...</td>\n",
              "      <td>News</td>\n",
              "      <td>December 31, 2017</td>\n",
              "      <td>0</td>\n",
              "    </tr>\n",
              "    <tr>\n",
              "      <th>2</th>\n",
              "      <td>Sheriff David Clarke Becomes An Internet Joke...</td>\n",
              "      <td>On Friday, it was revealed that former Milwauk...</td>\n",
              "      <td>News</td>\n",
              "      <td>December 30, 2017</td>\n",
              "      <td>0</td>\n",
              "    </tr>\n",
              "    <tr>\n",
              "      <th>3</th>\n",
              "      <td>Trump Is So Obsessed He Even Has Obama’s Name...</td>\n",
              "      <td>On Christmas day, Donald Trump announced that ...</td>\n",
              "      <td>News</td>\n",
              "      <td>December 29, 2017</td>\n",
              "      <td>0</td>\n",
              "    </tr>\n",
              "    <tr>\n",
              "      <th>4</th>\n",
              "      <td>Pope Francis Just Called Out Donald Trump Dur...</td>\n",
              "      <td>Pope Francis used his annual Christmas Day mes...</td>\n",
              "      <td>News</td>\n",
              "      <td>December 25, 2017</td>\n",
              "      <td>0</td>\n",
              "    </tr>\n",
              "  </tbody>\n",
              "</table>\n",
              "</div>"
            ],
            "text/plain": [
              "                                               title  ... class\n",
              "0   Donald Trump Sends Out Embarrassing New Year’...  ...     0\n",
              "1   Drunk Bragging Trump Staffer Started Russian ...  ...     0\n",
              "2   Sheriff David Clarke Becomes An Internet Joke...  ...     0\n",
              "3   Trump Is So Obsessed He Even Has Obama’s Name...  ...     0\n",
              "4   Pope Francis Just Called Out Donald Trump Dur...  ...     0\n",
              "\n",
              "[5 rows x 5 columns]"
            ]
          },
          "metadata": {
            "tags": []
          },
          "execution_count": 7
        }
      ]
    },
    {
      "cell_type": "code",
      "metadata": {
        "id": "oqRZ_Xp-c5cP"
      },
      "source": [
        "df_merge.columns\n",
        "df = df_merge.drop([\"title\", \"subject\",\"date\"], axis = 1)"
      ],
      "execution_count": 8,
      "outputs": []
    },
    {
      "cell_type": "markdown",
      "metadata": {
        "id": "H2Il-20UdPxs"
      },
      "source": [
        "Creating a function to process the texts"
      ]
    },
    {
      "cell_type": "code",
      "metadata": {
        "id": "u0Ys_xMGdUm9"
      },
      "source": [
        "def wordopt(text):\n",
        "    text = text.lower()\n",
        "    text = re.sub('\\[.*?\\]', '', text)\n",
        "    text = re.sub(\"\\\\W\",\" \",text) \n",
        "    text = re.sub('https?://\\S+|www\\.\\S+', '', text)\n",
        "    text = re.sub('<.*?>+', '', text)\n",
        "    text = re.sub('[%s]' % re.escape(string.punctuation), '', text)\n",
        "    text = re.sub('\\n', '', text)\n",
        "    text = re.sub('\\w*\\d\\w*', '', text)    \n",
        "    return text"
      ],
      "execution_count": 9,
      "outputs": []
    },
    {
      "cell_type": "code",
      "metadata": {
        "id": "KOaNiPTFdWtT"
      },
      "source": [
        "df[\"text\"] = df[\"text\"].apply(wordopt)"
      ],
      "execution_count": 10,
      "outputs": []
    },
    {
      "cell_type": "code",
      "metadata": {
        "id": "-dvq6hTzdZ6v"
      },
      "source": [
        "x = df[\"text\"]\n",
        "y = df[\"class\"]"
      ],
      "execution_count": 11,
      "outputs": []
    },
    {
      "cell_type": "markdown",
      "metadata": {
        "id": "2JBsDvv6de02"
      },
      "source": [
        "Splitting the data"
      ]
    },
    {
      "cell_type": "code",
      "metadata": {
        "id": "092iDxr8dcZx"
      },
      "source": [
        "x_train, x_test, y_train, y_test = train_test_split(x, y, test_size=0.3)"
      ],
      "execution_count": 12,
      "outputs": []
    },
    {
      "cell_type": "markdown",
      "metadata": {
        "id": "0koZ5TCxdqRS"
      },
      "source": [
        "Converting text to vectors"
      ]
    },
    {
      "cell_type": "code",
      "metadata": {
        "id": "rcpAso8Ldsbj"
      },
      "source": [
        "from sklearn.feature_extraction.text import TfidfVectorizer\n",
        "vectorization = TfidfVectorizer()\n",
        "xv_train = vectorization.fit_transform(x_train)\n",
        "xv_test = vectorization.transform(x_test)"
      ],
      "execution_count": 13,
      "outputs": []
    },
    {
      "cell_type": "markdown",
      "metadata": {
        "id": "2QjFvjQ0jqMs"
      },
      "source": [
        "Implementing Various algorithms/methods"
      ]
    },
    {
      "cell_type": "markdown",
      "metadata": {
        "id": "7Z9QzDbittZQ"
      },
      "source": [
        "  1.Logistic Regression"
      ]
    },
    {
      "cell_type": "code",
      "metadata": {
        "id": "VERHzJ1OsHA2"
      },
      "source": [
        "from sklearn.linear_model import LogisticRegression\n",
        "classifierlr = LogisticRegression()\n",
        "classifierlr.fit(xv_train, y_train)\n",
        "LR_predict = classifierlr.predict(xv_test)"
      ],
      "execution_count": 14,
      "outputs": []
    },
    {
      "cell_type": "code",
      "metadata": {
        "colab": {
          "base_uri": "https://localhost:8080/"
        },
        "id": "ITVfq1zxt1DE",
        "outputId": "f501eb2e-61fd-4fc8-dc8f-59c61363082a"
      },
      "source": [
        "print('ROCAUC score:',roc_auc_score(y_test,LR_predict))\n",
        "print('Accuracy score:',accuracy_score(y_test, LR_predict))\n",
        "print('F1 score:',f1_score(y_test,LR_predict))\n",
        "print('Precision:',precision_score(y_test,LR_predict))\n",
        "print('Recall:',recall_score(y_test,LR_predict))"
      ],
      "execution_count": 15,
      "outputs": [
        {
          "output_type": "stream",
          "text": [
            "ROCAUC score: 0.9833097822987446\n",
            "Accuracy score: 0.9832962138084632\n",
            "F1 score: 0.9827308312226571\n",
            "Precision: 0.981751265143383\n",
            "Recall: 0.9837123540258144\n"
          ],
          "name": "stdout"
        }
      ]
    },
    {
      "cell_type": "code",
      "metadata": {
        "colab": {
          "base_uri": "https://localhost:8080/"
        },
        "id": "XAeavKCEstwi",
        "outputId": "90c544e0-a8e2-4871-e983-1402bd5cd314"
      },
      "source": [
        "confusion_matrix(y_test,LR_predict)"
      ],
      "execution_count": 16,
      "outputs": [
        {
          "output_type": "execute_result",
          "data": {
            "text/plain": [
              "array([[6843,  119],\n",
              "       [ 106, 6402]])"
            ]
          },
          "metadata": {
            "tags": []
          },
          "execution_count": 16
        }
      ]
    },
    {
      "cell_type": "code",
      "metadata": {
        "colab": {
          "base_uri": "https://localhost:8080/"
        },
        "id": "JxHRm6AceZt5",
        "outputId": "28bac1fd-272a-493f-e9d4-c7ee69bb4f50"
      },
      "source": [
        "print(classification_report(y_test, LR_predict))"
      ],
      "execution_count": 17,
      "outputs": [
        {
          "output_type": "stream",
          "text": [
            "              precision    recall  f1-score   support\n",
            "\n",
            "           0       0.98      0.98      0.98      6962\n",
            "           1       0.98      0.98      0.98      6508\n",
            "\n",
            "    accuracy                           0.98     13470\n",
            "   macro avg       0.98      0.98      0.98     13470\n",
            "weighted avg       0.98      0.98      0.98     13470\n",
            "\n"
          ],
          "name": "stdout"
        }
      ]
    },
    {
      "cell_type": "markdown",
      "metadata": {
        "id": "r8pXd4UlS86q"
      },
      "source": [
        "2.Perceptron Learning"
      ]
    },
    {
      "cell_type": "code",
      "metadata": {
        "id": "NIGvccq6S9V1"
      },
      "source": [
        "from sklearn.linear_model import Perceptron\n",
        "Permodel = Perceptron()\n",
        "Permodel.fit(xv_train,y_train)\n",
        "Per_Pred=Permodel.predict(xv_test)"
      ],
      "execution_count": 18,
      "outputs": []
    },
    {
      "cell_type": "code",
      "metadata": {
        "colab": {
          "base_uri": "https://localhost:8080/"
        },
        "id": "sJrV5Bh0TKZc",
        "outputId": "ec84e322-7da9-4c38-906d-df89e0e0a422"
      },
      "source": [
        "print('ROCAUC score:',roc_auc_score(y_test,Per_Pred))\n",
        "print('Accuracy score:',accuracy_score(y_test,Per_Pred))\n",
        "print('F1 score:',f1_score(y_test,Per_Pred))\n",
        "print('Precision:',precision_score(y_test,Per_Pred))\n",
        "print('Recall:',recall_score(y_test,Per_Pred))"
      ],
      "execution_count": 19,
      "outputs": [
        {
          "output_type": "stream",
          "text": [
            "ROCAUC score: 0.9822041667233151\n",
            "Accuracy score: 0.9827023014105419\n",
            "F1 score: 0.981832358674464\n",
            "Precision: 0.9966756371695425\n",
            "Recall: 0.9674247080516287\n"
          ],
          "name": "stdout"
        }
      ]
    },
    {
      "cell_type": "code",
      "metadata": {
        "colab": {
          "base_uri": "https://localhost:8080/"
        },
        "id": "XUGYcjTqTRYg",
        "outputId": "4fb918d4-6fe4-4791-981e-0f79c90c90ce"
      },
      "source": [
        "confusion_matrix(y_test,Per_Pred)"
      ],
      "execution_count": 20,
      "outputs": [
        {
          "output_type": "execute_result",
          "data": {
            "text/plain": [
              "array([[6941,   21],\n",
              "       [ 212, 6296]])"
            ]
          },
          "metadata": {
            "tags": []
          },
          "execution_count": 20
        }
      ]
    },
    {
      "cell_type": "code",
      "metadata": {
        "colab": {
          "base_uri": "https://localhost:8080/"
        },
        "id": "CHyQZaLxTV3p",
        "outputId": "9af5a937-fbf1-408b-a0f5-3225de96023a"
      },
      "source": [
        "print(classification_report(y_test, Per_Pred))"
      ],
      "execution_count": 21,
      "outputs": [
        {
          "output_type": "stream",
          "text": [
            "              precision    recall  f1-score   support\n",
            "\n",
            "           0       0.97      1.00      0.98      6962\n",
            "           1       1.00      0.97      0.98      6508\n",
            "\n",
            "    accuracy                           0.98     13470\n",
            "   macro avg       0.98      0.98      0.98     13470\n",
            "weighted avg       0.98      0.98      0.98     13470\n",
            "\n"
          ],
          "name": "stdout"
        }
      ]
    },
    {
      "cell_type": "markdown",
      "metadata": {
        "id": "-WjV06racSVr"
      },
      "source": [
        "3.Random Forest Classifier"
      ]
    },
    {
      "cell_type": "code",
      "metadata": {
        "id": "XIb6xwRfbHoo"
      },
      "source": [
        "from sklearn.ensemble import RandomForestClassifier\n",
        "rfc = RandomForestClassifier()\n",
        "rfc.fit(xv_train, y_train)\n",
        "rfc_predict = rfc.predict(xv_test)"
      ],
      "execution_count": 22,
      "outputs": []
    },
    {
      "cell_type": "code",
      "metadata": {
        "colab": {
          "base_uri": "https://localhost:8080/"
        },
        "id": "Z1tLvTcxbu07",
        "outputId": "00a2096a-14c7-479c-cb57-a3693f7ee37c"
      },
      "source": [
        "print('ROCAUC score:',roc_auc_score(y_test, rfc_predict))\n",
        "print('Accuracy score:',accuracy_score(y_test, rfc_predict))\n",
        "print('F1 score:',f1_score(y_test, rfc_predict))\n",
        "print('Precision:',precision_score(y_test,rfc_predict))\n",
        "print('Recall:',recall_score(y_test,rfc_predict))"
      ],
      "execution_count": 23,
      "outputs": [
        {
          "output_type": "stream",
          "text": [
            "ROCAUC score: 0.9871144823942847\n",
            "Accuracy score: 0.9871566443949518\n",
            "F1 score: 0.9866974240676663\n",
            "Precision: 0.9875327074034169\n",
            "Recall: 0.9858635525507068\n"
          ],
          "name": "stdout"
        }
      ]
    },
    {
      "cell_type": "code",
      "metadata": {
        "colab": {
          "base_uri": "https://localhost:8080/"
        },
        "id": "2k3xP2aye4qS",
        "outputId": "41db5ec9-8a80-4633-8a7f-f9946e7ce185"
      },
      "source": [
        "confusion_matrix(y_test,rfc_predict)"
      ],
      "execution_count": 24,
      "outputs": [
        {
          "output_type": "execute_result",
          "data": {
            "text/plain": [
              "array([[6881,   81],\n",
              "       [  92, 6416]])"
            ]
          },
          "metadata": {
            "tags": []
          },
          "execution_count": 24
        }
      ]
    },
    {
      "cell_type": "code",
      "metadata": {
        "colab": {
          "base_uri": "https://localhost:8080/"
        },
        "id": "lJl01N02f7l9",
        "outputId": "45d517dd-2548-4548-cbd7-118b870bdb98"
      },
      "source": [
        "print(classification_report(y_test, rfc_predict))"
      ],
      "execution_count": 25,
      "outputs": [
        {
          "output_type": "stream",
          "text": [
            "              precision    recall  f1-score   support\n",
            "\n",
            "           0       0.99      0.99      0.99      6962\n",
            "           1       0.99      0.99      0.99      6508\n",
            "\n",
            "    accuracy                           0.99     13470\n",
            "   macro avg       0.99      0.99      0.99     13470\n",
            "weighted avg       0.99      0.99      0.99     13470\n",
            "\n"
          ],
          "name": "stdout"
        }
      ]
    },
    {
      "cell_type": "markdown",
      "metadata": {
        "id": "Tei0ZGJFfw06"
      },
      "source": [
        "4.XGB Classifier"
      ]
    },
    {
      "cell_type": "code",
      "metadata": {
        "id": "W05cJxyDfzri"
      },
      "source": [
        "from xgboost import XGBClassifier\n",
        "import xgboost as XGB\n",
        "model2=XGBClassifier()\n",
        "model2.fit(xv_train,y_train)\n",
        "predictions=model2.predict(xv_test)"
      ],
      "execution_count": 26,
      "outputs": []
    },
    {
      "cell_type": "code",
      "metadata": {
        "colab": {
          "base_uri": "https://localhost:8080/"
        },
        "id": "fKd9PI_zgan_",
        "outputId": "93ce6dc5-e96a-4939-f097-a70cda19ad8a"
      },
      "source": [
        "print('ROCAUC score:',roc_auc_score(y_test,predictions))\n",
        "print('Accuracy score:',accuracy_score(y_test,predictions))\n",
        "print('F1 score:',f1_score(y_test,predictions))\n",
        "print('Precision:',precision_score(y_test,predictions))\n",
        "print('Recall:',recall_score(y_test,predictions))"
      ],
      "execution_count": 27,
      "outputs": [
        {
          "output_type": "stream",
          "text": [
            "ROCAUC score: 0.9961802696771497\n",
            "Accuracy score: 0.9961395694135116\n",
            "F1 score: 0.9960104342488875\n",
            "Precision: 0.9946368372663194\n",
            "Recall: 0.9973878303626306\n"
          ],
          "name": "stdout"
        }
      ]
    },
    {
      "cell_type": "code",
      "metadata": {
        "colab": {
          "base_uri": "https://localhost:8080/"
        },
        "id": "dlIlg5qHgt2j",
        "outputId": "5454360b-d77d-44b7-b642-f7a8cc213c6c"
      },
      "source": [
        "confusion_matrix(y_test,predictions)"
      ],
      "execution_count": 28,
      "outputs": [
        {
          "output_type": "execute_result",
          "data": {
            "text/plain": [
              "array([[6927,   35],\n",
              "       [  17, 6491]])"
            ]
          },
          "metadata": {
            "tags": []
          },
          "execution_count": 28
        }
      ]
    },
    {
      "cell_type": "code",
      "metadata": {
        "colab": {
          "base_uri": "https://localhost:8080/"
        },
        "id": "Uca3Spk-g2tR",
        "outputId": "e5c9b96c-bd03-4344-e391-54c76ca9609f"
      },
      "source": [
        "print(classification_report(y_test, predictions))"
      ],
      "execution_count": 29,
      "outputs": [
        {
          "output_type": "stream",
          "text": [
            "              precision    recall  f1-score   support\n",
            "\n",
            "           0       1.00      0.99      1.00      6962\n",
            "           1       0.99      1.00      1.00      6508\n",
            "\n",
            "    accuracy                           1.00     13470\n",
            "   macro avg       1.00      1.00      1.00     13470\n",
            "weighted avg       1.00      1.00      1.00     13470\n",
            "\n"
          ],
          "name": "stdout"
        }
      ]
    },
    {
      "cell_type": "markdown",
      "metadata": {
        "id": "-LBsSLWwcjWT"
      },
      "source": [
        "5.Decision Tree"
      ]
    },
    {
      "cell_type": "code",
      "metadata": {
        "id": "UnWF7H1JcgAp"
      },
      "source": [
        "from sklearn.tree import DecisionTreeClassifier \n",
        "classifier = DecisionTreeClassifier() \n",
        "classifier = classifier.fit(xv_train, y_train)  \n",
        "Y_pred = classifier.predict(xv_test) "
      ],
      "execution_count": 30,
      "outputs": []
    },
    {
      "cell_type": "code",
      "metadata": {
        "colab": {
          "base_uri": "https://localhost:8080/"
        },
        "id": "ei3_gLn9c-rb",
        "outputId": "1c542a0d-5f84-4868-9187-2f57bbf1a358"
      },
      "source": [
        "print('ROCAUC score:',roc_auc_score(y_test, Y_pred))\n",
        "print('Accuracy score:',accuracy_score(y_test,Y_pred ))\n",
        "print('F1 score:',f1_score(y_test,Y_pred))\n",
        "print('Precision:',precision_score(y_test,Y_pred))\n",
        "print('Recall:',recall_score(y_test,Y_pred))"
      ],
      "execution_count": 31,
      "outputs": [
        {
          "output_type": "stream",
          "text": [
            "ROCAUC score: 0.9952850552132421\n",
            "Accuracy score: 0.9953229398663697\n",
            "F1 score: 0.9951549642390218\n",
            "Precision: 0.9961508852963818\n",
            "Recall: 0.994161032575292\n"
          ],
          "name": "stdout"
        }
      ]
    },
    {
      "cell_type": "code",
      "metadata": {
        "colab": {
          "base_uri": "https://localhost:8080/"
        },
        "id": "mGBYZkWxfFsr",
        "outputId": "fbe53432-2221-4270-d65d-e4ad6c29b55d"
      },
      "source": [
        "confusion_matrix(y_test,Y_pred)"
      ],
      "execution_count": 32,
      "outputs": [
        {
          "output_type": "execute_result",
          "data": {
            "text/plain": [
              "array([[6937,   25],\n",
              "       [  38, 6470]])"
            ]
          },
          "metadata": {
            "tags": []
          },
          "execution_count": 32
        }
      ]
    },
    {
      "cell_type": "code",
      "metadata": {
        "colab": {
          "base_uri": "https://localhost:8080/"
        },
        "id": "TBDxsP9AfMjz",
        "outputId": "592d06fa-cb23-4deb-e3dd-936d1043961b"
      },
      "source": [
        "print(classification_report(y_test, Y_pred))"
      ],
      "execution_count": 33,
      "outputs": [
        {
          "output_type": "stream",
          "text": [
            "              precision    recall  f1-score   support\n",
            "\n",
            "           0       0.99      1.00      1.00      6962\n",
            "           1       1.00      0.99      1.00      6508\n",
            "\n",
            "    accuracy                           1.00     13470\n",
            "   macro avg       1.00      1.00      1.00     13470\n",
            "weighted avg       1.00      1.00      1.00     13470\n",
            "\n"
          ],
          "name": "stdout"
        }
      ]
    }
  ]
}